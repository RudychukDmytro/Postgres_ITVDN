{
 "cells": [
  {
   "cell_type": "markdown",
   "metadata": {
    "pycharm": {
     "name": "#%% md\n"
    }
   },
   "source": [
    "# Введення в реляційні бази даних.\n",
    "# PostgreSQL + Python\n",
    "\n",
    "---\n",
    "\n",
    "## лекція 1: сторюємо інфраструктуру\n"
   ]
  },
  {
   "cell_type": "code",
   "execution_count": 3,
   "metadata": {
    "ExecuteTime": {
     "end_time": "2023-08-26T06:11:33.436460300Z",
     "start_time": "2023-08-26T06:11:33.307775200Z"
    },
    "collapsed": false,
    "jupyter": {
     "outputs_hidden": false
    },
    "pycharm": {
     "name": "#%%\n"
    }
   },
   "outputs": [
    {
     "name": "stdout",
     "output_type": "stream",
     "text": [
      "PostgreSQL + Python: lesson 1. A little about the database and the creation of infrastructure\n"
     ]
    }
   ],
   "source": [
    "print(\"PostgreSQL + Python: lesson 1. A little about the database and the creation of infrastructure\")"
   ]
  },
  {
   "cell_type": "markdown",
   "metadata": {
    "collapsed": false,
    "jupyter": {
     "outputs_hidden": false
    },
    "pycharm": {
     "name": "#%% md\n"
    }
   },
   "source": [
    "### _Введення в реляційні бази даних_\n",
    "\n",
    "[База даних (БД, DataBase, DB)](https://uk.wikipedia.org/wiki/%D0%91%D0%B0%D0%B7%D0%B0_%D0%B4%D0%B0%D0%BD%D0%B8%D1%85) - це набір взаємно пов'язаних даних.\n",
    "\n",
    "[Система управляння базами даних (СУБД, СКБД англ. Database Management System, DBMS)](https://uk.wikipedia.org/wiki/%D0%A1%D0%B8%D1%81%D1%82%D0%B5%D0%BC%D0%B0_%D1%83%D0%BF%D1%80%D0%B0%D0%B2%D0%BB%D1%96%D0%BD%D0%BD%D1%8F_%D0%B1%D0%B0%D0%B7%D0%B0%D0%BC%D0%B8_%D0%B4%D0%B0%D0%BD%D0%B8%D1%85) - комплекс програмних засобів для керування даними.\n",
    "\n",
    "СУБД - відповідає за підтримку мови БД, організацію створення БД, внесення даних, збереження, маніпулювання даними, оптимізацію процесів роботи з даними й т.ін."
   ]
  },
  {
   "cell_type": "markdown",
   "metadata": {
    "collapsed": false,
    "jupyter": {
     "outputs_hidden": false
    },
    "pycharm": {
     "name": "#%% md\n"
    }
   },
   "source": [
    "![які бувають БД](./media/database.png)\n",
    "\n",
    "---\n",
    "\n",
    "Не реляційні СУБД з'явилися дуже давно - і з деякими з них ви напевне знайомі. Приклад ієрархічної організації даних (докладніше - [тут](https://uk.wikipedia.org/wiki/%D0%86%D1%94%D1%80%D0%B0%D1%80%D1%85%D1%96%D1%87%D0%BD%D0%B0_%D0%BC%D0%BE%D0%B4%D0%B5%D0%BB%D1%8C_%D0%B4%D0%B0%D0%BD%D0%B8%D1%85#:~:text=%D0%86%D1%94%D1%80%D0%B0%D1%80%D1%85%D1%96%D1%87%D0%BD%D0%B0%20%D0%BC%D0%BE%D0%B4%D0%B5%D0%BB%D1%8C%20%D0%B4%D0%B0%D0%BD%D0%B8%D1%85%20%E2%80%94%20%D1%86%D0%B5%20%D0%BC%D0%BE%D0%B4%D0%B5%D0%BB%D1%8C,%D0%BE%D0%B1'%D1%94%D0%BA%D1%82%D1%96%D0%B2%20%D0%B1%D1%96%D0%BB%D1%8C%D1%88%20%D0%BD%D0%B8%D0%B7%D1%8C%D0%BA%D0%BE%D0%B3%D0%BE%20%D1%80%D1%96%D0%B2%D0%BD%D1%8F.)) - каталог бібліотеки. Або - приклад нижче\n",
    "\n",
    "---\n",
    "\n",
    "![ієрарчічна модель даних](./media/ierarch_db.jpg)\n",
    "\n",
    "---\n",
    "\n",
    "Мережеві моделі даних - розвиток ієрархічної моделі. Відмінність - вузол може бути нащадком не одного предка, а будь-скількох. Це на каша, а досить складна і сувора математична теорія). Докладніше - [тут](https://uk.wikipedia.org/wiki/%D0%9C%D0%B5%D1%80%D0%B5%D0%B6%D0%B5%D0%B2%D0%B0_%D0%BC%D0%BE%D0%B4%D0%B5%D0%BB%D1%8C_%D0%B4%D0%B0%D0%BD%D0%B8%D1%85).\n",
    "\n",
    "Структурно це може виглядати так:\n",
    "\n",
    "---\n",
    "\n",
    "![мережева модель даних](./media/net_model_db.jpeg)"
   ]
  },
  {
   "cell_type": "markdown",
   "metadata": {
    "collapsed": false,
    "jupyter": {
     "outputs_hidden": false
    },
    "pycharm": {
     "name": "#%% md\n"
    }
   },
   "source": [
    "Але сьогодні ми розмовляємо про [реляційні бази даних](https://uk.wikipedia.org/wiki/%D0%A0%D0%B5%D0%BB%D1%8F%D1%86%D1%96%D0%B9%D0%BD%D0%B0_%D0%B1%D0%B0%D0%B7%D0%B0_%D0%B4%D0%B0%D0%BD%D0%B8%D1%85).\n",
    "\n",
    "Теоретичною базою реляційних СУБД є [реляційна алгебра](https://uk.wikipedia.org/wiki/%D0%A0%D0%B5%D0%BB%D1%8F%D1%86%D1%96%D0%B9%D0%BD%D0%B0_%D0%B0%D0%BB%D0%B3%D0%B5%D0%B1%D1%80%D0%B0)\n",
    "\n",
    "Досить проста презентація, яка демонструє базові інструменти - [тут](https://ppt-online.org/557751)\n",
    "\n",
    "Лекція про множини і операції з ними, яка нагадає Вам роботу дуже схожих операцій - [тут](https://www.youtube.com/watch?v=xMW1x3i6D44&list=PLOlyZEVllXBHso6SasmoJdNWVO63573RN&index=6). Дивіться останню третину лекції.\n",
    "\n",
    "---\n",
    "\n",
    "![демонстрація деяких операцій реляційної алгебри](./media/relaton_alg.png)\n",
    "\n",
    "___\n",
    "\n",
    "Реляційна алгебра визначає комплекс операцій з відношеннями (таблицями): поєднання, різницю, перетин ...\n",
    "\n",
    "Всі ці операції можуть біти виражені через мову SQL, що ми і будемо з Вами робити.\n",
    "\n",
    "Терміни:\n",
    "- сутність - те, що ми описуємо (якийсь конкретний товар, якась конкретна людина, замовлення і т. ін.).\n",
    "- таблиця (відношення) - це множина якихось сутностей\n",
    "- стовпчик таблиці - атрибут - один з параметрів якими ми описуємо сутності\n",
    "- рядок таблиці (запис, кортеж) - набір атрибутів з конкретними значеннями.\n",
    "- фінальний набір - результат запиту SQL. Завжди таблиця (навіть коли результат - просте число).\n",
    "\n",
    "таблиці (стовпці - атрибути, рядки - сутності (дані), шапка таблиці - імена атрибутів)\n",
    "\n",
    "---\n",
    "\n",
    "#### Коротко - що таке SQL\n",
    "\n",
    "SQL - спеціалізована непроцедурна мова програмування.\n",
    "\n",
    "SQL стандартизований. Діючий стандарт - ANSI SQL-92. Як правило, різні БД підтримують цей стандарт і додають свої розширення (свій діалект).\n",
    "\n",
    "Складається з декількох груп операторів:\n",
    "- DDL (Data Definition Language) - CREATE, DROP, ALTER\n",
    "- DML (Data Manipulation Language) - SELECT, INSERT, UPDATE, DELETE\n",
    "- TCL (Transaction Control Language) - COMMIT, ROLLBACK, SAVEPOINT\n",
    "- DCL (Data Control Language) - GRANT, REVOKE, DENY\n"
   ]
  },
  {
   "cell_type": "markdown",
   "metadata": {
    "collapsed": false,
    "jupyter": {
     "outputs_hidden": false
    },
    "pycharm": {
     "name": "#%% md\n"
    }
   },
   "source": [
    "#### Світ SQL баз даних - досить широкий і неоднорідний\n",
    "\n",
    "[За архітектурою побудови](http://um.co.ua/9/9-3/9-30541.html):\n",
    "- вбудовані (SQLite)\n",
    "- [клієнт-серверні](https://stud.com.ua/97304/informatika/kliyent_serverni_sistemi) (PostgreSQL, MySQL, ...)\n",
    "- файл-серверні (Microsoft Access)\n",
    "\n",
    "#### Приклади популярних клієнт-серверних СУБД:\n",
    "\n",
    "- MySQL\n",
    "- PostgreSQL\n",
    "- Oracle\n",
    "- MS SQL\n",
    "- MariaDB"
   ]
  },
  {
   "cell_type": "markdown",
   "metadata": {
    "collapsed": false,
    "jupyter": {
     "outputs_hidden": false
    },
    "pycharm": {
     "name": "#%% md\n"
    }
   },
   "source": [
    "![TOP database](./media/TOPDB.png)\n",
    "\n",
    "Ми з Вами зосередимось на PostgreSQL як на реляційній БД загального використання з високими темпами зростання серед інших близких за областю використання БД."
   ]
  },
  {
   "cell_type": "markdown",
   "metadata": {
    "collapsed": false,
    "jupyter": {
     "outputs_hidden": false
    },
    "pycharm": {
     "name": "#%% md\n"
    }
   },
   "source": []
  },
  {
   "cell_type": "markdown",
   "metadata": {
    "collapsed": false,
    "jupyter": {
     "outputs_hidden": false
    },
    "pycharm": {
     "name": "#%% md\n"
    }
   },
   "source": [
    "### _Інфраструктура і розгортання БД_\n",
    "\n",
    "---\n",
    "\n",
    "Для проходження курсу ми з вами розгорнемо CУБД PostgreSQl в контейнері - згадавши і закріпивши матеріал попереднього курсу Docker&Python.\n",
    "\n",
    "Для зручного використання і закріплення навичок ми розгорнемо web-клієнта pgAdmin у сусідньому контейнері.\n",
    "Оскільки ми з вами цю тематику вивчали зовсім недавно - розберемо лише відмінності у docker-compose.yaml"
   ]
  },
  {
   "cell_type": "markdown",
   "metadata": {
    "collapsed": false,
    "jupyter": {
     "outputs_hidden": false
    },
    "pycharm": {
     "name": "#%% md\n"
    }
   },
   "source": [
    "![docker-compose.yaml](./media/docker_compose_yaml.png)"
   ]
  },
  {
   "cell_type": "markdown",
   "metadata": {
    "collapsed": true,
    "jupyter": {
     "outputs_hidden": true
    },
    "pycharm": {
     "name": "#%% md\n"
    }
   },
   "source": [
    "##### Спочатку розберемо відмінності від того, що ми робили раніше, у сервісі __postgres__.\n",
    "\n",
    "Тут є досить багато відмінностей, розглянемо їх по черзі:\n",
    "- розділ __environment__, змінна середовища PGDATA.\n",
    "    - докладно про цю змінну середовища можна [прочитати тут](https://www.postgresql.org/docs/14/storage-file-layout.html) та [обов'язково тут](https://github.com/docker-library/docs/blob/master/postgres/README.md#pgdata). Якщо коротко - вона визначає маршрут, за яким будуть зберігатися файли конфігурації сервера та даних. Трохи пізніше стане зрозумілим для чого зараз ми створили цю змінну.\n",
    "- розділ __volumes__, тут дещо цікавіше\n",
    "    - спочатку ми зв'язуємо теку ./init_DB/ в своєму робочому каталозі з текою в контейнері з назвою /docker-entrypoint-initdb.d\n",
    "    Це тека, яка передбачена офіційним docker-образом postgresql для старта sql або bash-скриптів при ініціалізації бази даних - тобто вони запускаються якщо папка з даними (дивись попередній пункт) буде пустою. Ми можемо розмістити в init_DB/ sql-скрипт ініціалізації і створення бази даних. Докладніше про це можна [прочитати тут](https://github.com/docker-library/docs/blob/master/postgres/README.md#initialization-scripts).\n",
    "    - далі ми зв'язуємо теку ./data/ в нашому каталозі з тією самою текою на першому кроці - яка визначена в змінній оточення PGDATA і вказує на теку яка буде зберігати налаштування БД і всі дані. Таким чином ми першим кроком точно зафіксували цей маршрут, а другим кроком, зв'язавши з текою в нашому каталозі, забезпечили зберігання даних за межами контейнера.\n",
    "- розділ healthcheck. Раніше ми з таким не працювали. Це можливість, яка забезпечується docker для контроля з деякою періодичністю роботи створених сервісів. Докладно про цю можливість в цілому можна прочитати тут(https://docs.docker.com/engine/reference/builder/#healthcheck), а стосовно [postgresql - тут](https://medium.com/@manusajith/making-dependent-services-wait-till-containers-are-healthy-using-docker-health-check-167d7e7f0de2).\n",
    "\n",
    "Відносно сервісу __pgAdmin__.\n",
    "\n",
    "Ми замінили версію образу на останню, додали змінну оточення PGADMIN_CONFIG_SERVER_MODE - яка керує можливістю працювати pgAdmin в режимі сервера (для нас в цьому немає сенсу, [докладніше про це тут](https://www.pgadmin.org/docs/pgadmin4/6.18/server_deployment.html)) і я змінив порт 5050 (на якому у зазвичай працює pgAdmin) на порт 5055 - просто тому що у мене порт 5050 зайнятий.\n",
    "\n",
    "Фактично - це всі особливості."
   ]
  },
  {
   "cell_type": "markdown",
   "metadata": {
    "collapsed": false,
    "jupyter": {
     "outputs_hidden": false
    },
    "pycharm": {
     "name": "#%% md\n"
    }
   },
   "source": [
    "##### Про базу даних, яку ми будемо використовувати.\n",
    "\n",
    "Сподіваюсь що Ви пам'ятаєте базу даних, яку ми створювали при першому знайомстві з SQL. На цьому етапі ми плануємо значно глибше вивчення SQL з незначною орієнтацією на діалект і особливості PostgreSQL. Структура тієї бази була достатня для первинного знайомства з SQL і вивчення простих запитів.\n",
    "\n",
    "Для досягнення цілей цього курса нам необхідна база даних з дещо складнішою структурою. Щоб не витрачати час на створення нової БД ми будемо використовувати БД Nordwind.\n",
    "Це фейкова БД створена саме для навчання і вона має ліцензію яка дає нам можливість без обмежень використовувати її в навчальному процесі.\n",
    "Для розгортання цієї БД - sql-файл, що відповідає за створення всіх таблиць, накладання обмежень і заповнення їх даними розміщується в каталозі ./init_DB/. При старті наших сервісів, якщо файли даних БД (розташовані в теці яка визначається змінною оточення PGDATA) відсутні, буде запущений northwind.sql, який створить БД. Після зупинки контейнерів\\видалення\\перестворення\\перезапуску - якщо не змінювати volumes і нічого не видаляти в теці ./data/ - БД буде збережена і цей скрипт не буде стартувати.\n",
    "\n",
    "---\n"
   ]
  },
  {
   "cell_type": "markdown",
   "metadata": {
    "collapsed": false,
    "jupyter": {
     "outputs_hidden": false
    },
    "pycharm": {
     "name": "#%% md\n"
    }
   },
   "source": [
    "#### БД Nordwind\n",
    "\n",
    "БД описує діяльність торгової організації та має наступні сутності:\n",
    "- __products__ - товари\n",
    "- __categories__ - категорії товарів\n",
    "- __suppliers__ - постачальники товарів\n",
    "- __employees__ - співробітники компанії\n",
    "- __employees_territories__ - допоміжна таблиця, яка створює зв'язок \"багато-до-багатьох\" (ми будемо про це розмовляти більш докладно) співробітників компанії з територіальними одиницями\n",
    "- __territories__ - описує територіальні одниці \"територія\"\n",
    "- __region__ - описує територіальну сутність регіон, яка є атрибутом територіальної одниці \"територія\"\n",
    "- __customers__ - покупці\n",
    "- __customer_customer_demo__ - допоміжна таблиця, яка створює відношення \"багато-до-багатьох\" при формуванні демографічного атрибута покупця\n",
    "- __customer_demographics__ - описує можливі демографічні атрибути покупця\n",
    "- __orders__ - описує замовлення покупця (загальну інформацію по кожному замовленню)\n",
    "- __order_details__ - описує кожен товар в кожному замовленні з індивідуальними характеристиками (кількість одиниць, прайсова ціна і дисконт по кожній позиції)\n",
    "- __shippers__ - компанія яка займається доставленням конкретного замовлення\n",
    "- __us_states__ - таблиця описує перелік штатів у США зі своїми атрибутами\n",
    "\n",
    "Загальна ER-діаграма для бази даних має наступний вигляд:\n",
    "\n",
    "![Nordwind ERD](./media/Nordwind_ERD.png)"
   ]
  },
  {
   "cell_type": "markdown",
   "metadata": {
    "collapsed": false,
    "jupyter": {
     "outputs_hidden": false
    },
    "pycharm": {
     "name": "#%% md\n"
    }
   },
   "source": [
    "#### Розгортання інфраструктури і БД\n",
    "\n",
    "Я сподіваюсь що ви клонували репозиторій на локальний комп'ютер і у Вас розгорнутий інструментарій docker (якщо ні - згадайте курс Docker&Python, який ми проходили до цього курса і встановіть все необхідне).\n",
    "\n",
    "Відкрийте термінал в теці проекта і виконайте команди:\n",
    "\n",
    "```CLI\n",
    "sql_essential_2023> docker-compose create --build\n",
    "...\n",
    "sql_essential_2023> docker-compose up -d\n",
    "\n",
    "```"
   ]
  },
  {
   "cell_type": "markdown",
   "metadata": {
    "collapsed": false,
    "jupyter": {
     "outputs_hidden": false
    },
    "pycharm": {
     "name": "#%% md\n"
    }
   },
   "source": [
    "Ми не будемо зупинятись на деталізації роботи з docker, це було в минулому курсі. Після того, як ви побачите щось на кшталт:\n",
    "\n",
    "![start infrastructure screen](./media/start_infrastructure.png)"
   ]
  },
  {
   "cell_type": "markdown",
   "metadata": {
    "collapsed": false,
    "jupyter": {
     "outputs_hidden": false
    },
    "pycharm": {
     "name": "#%% md\n"
    }
   },
   "source": [
    "можемо переходити до наступних кроків."
   ]
  },
  {
   "cell_type": "markdown",
   "metadata": {
    "collapsed": false,
    "jupyter": {
     "outputs_hidden": false
    },
    "pycharm": {
     "name": "#%% md\n"
    }
   },
   "source": [
    "#### __Підключення клієнта до БД__\n",
    "\n",
    "Ми розгорнули СУБД PostgreSQL в контейнері, створили БД, таблиці, відношення між ними та наповнили БД даними завдяки sql-скрипту.\n",
    "PostgrSQL надає термінальний інтерфейс psql для взаємодії з базами даних.\n",
    "Докладна документація по [psql тут](https://www.postgresql.org/docs/14/app-psql.html).\n",
    "\n",
    "В терміналі, відкритому в нашому проекті, виконайте наступну команду:\n",
    "```CLI\n",
    "\n",
    "sql_essential_2023> docker-compose exec postgres psql -U student -d sql_essential_db\n",
    "\n",
    "```\n",
    "Команда робить наступне:\n",
    "- \"exec\" - в контейнері що працює (тобто - контейнер повинен працювати, нагадую що ми на попередньому кроці її запустили)\n",
    "- \"postgres\" - це ім'я сервіса, в якому необхідно виконати команду. В нашому випадку це сервіс \"postgres\"\n",
    "- \"psql\" - це ім'я того, що ми запускаємо в контейнері. Це і є команда для запуску термінального клієнта psql. Далі ідуть аргументи запуску саме термінального клієнта.\n",
    "- \"-U student\" - ми вказуємо psql ім'я клієнта, під яким необхідно підключатися до БД\n",
    "- \"-d sql_essential_db\" - ми вказуємо psql назву БД, до якої необхідно підлючитись\n",
    "\n",
    "Після вдалого виконання команди ви побачите запрошення psql для роботи в консолі:\n",
    "\n",
    "![psql CLI](./media/psql_start.png)"
   ]
  },
  {
   "cell_type": "markdown",
   "metadata": {
    "collapsed": false,
    "jupyter": {
     "outputs_hidden": false
    },
    "pycharm": {
     "name": "#%% md\n"
    }
   },
   "source": [
    "psql має досить велику кількість мета-команд для адміністрування БД і дозволяє виконувати SQL-запити.\n",
    "Мета-команді починаються зі зворотної косої черти і комбінації символів. Наприклад \\l - виводить перелік всіх баз даних,\n",
    "\n",
    "![command psql \\l](./media/psql_command_l.png)\n",
    "\n",
    "(хай Вас не дивує що там не тільки створена нами БД - PostgreSQL для забезпечення своєї роботи створює необхідні бази даних)\n",
    "А команда \\dt - виводить список всіх таблиць поточної БД, до якої ми підключені:\n",
    "\n",
    "![command psql \\dt](./media/psql_dt.png)\n",
    "\n",
    "Давайте виконаємо простий SQL-запит, користуючись наявними знаннями з попередніх курсів. Наприклад, з таблиці us_states виведемо 20 рядків (виключно щоб влізли на один екран). Команда і результат будуть виглядати наступним чином:\n",
    "\n",
    "![psql_simply_SQL_query](./media/psql_SQL_query.png)\n",
    "\n",
    "Я пропоную Вам зануритись в [документацію тут](https://www.postgresql.org/docs/14/app-psql.html) і [посібник тут](https://tomcam.github.io/postgres/) для більш детального вивчення можливостей.\n",
    "\n",
    "А ми з вами вивчимо ще одну команду psql \\q, яка завершує роботу psql і будемо рухатися далі.\n",
    "\n",
    "![psql quit](./media/psql_quit.png)"
   ]
  },
  {
   "cell_type": "markdown",
   "metadata": {
    "collapsed": false,
    "jupyter": {
     "outputs_hidden": false
    },
    "pycharm": {
     "name": "#%% md\n"
    }
   },
   "source": [
    "#### Підключення web-клієнта pgAdmin\n",
    "\n",
    "Psql - зручний клієнт і він завжди є якщо є postgreSQL. Але не всм звично працювати з консольними застосунками і графічний інтерфейс має свої переваги. Тому ми з Вами заздалегідь про це подумали та розгорнули в іншому контейнері web-клієнта pgAdmin. Під'єднаємо його до нашої БД.\n",
    "\n",
    "В своєму браузері в рядку URL наберіть 127.0.0.1:5055 (якщо ви не змінювали в порти в docker-compose.yaml). Це займе деякий час і ви побачите наступну картинку у браузері:\n",
    "\n",
    "![pgAdmin start](./media/pgAdmin_start.png)"
   ]
  },
  {
   "cell_type": "markdown",
   "metadata": {
    "collapsed": false,
    "jupyter": {
     "outputs_hidden": false
    },
    "pycharm": {
     "name": "#%% md\n"
    }
   },
   "source": [
    "введіть пароль, який ми з Вами вказали в docker-compose.yaml при описі сервісу pgadmin для змінної оточення       PGADMIN_DEFAULT_PASSWORD - sql_essential.\n",
    "\n",
    "Після цього вікно пароля зникне і Вам необхідно правою кнопкою миші клікнути по надпису Server в лівій частині єкрану і перейти по відкриваючихся пунктах меню як показано на малюнку нижче:\n",
    "\n",
    "![pgAdmin реєстрація сервера](./media/pgAdmin_register_server.png)"
   ]
  },
  {
   "cell_type": "markdown",
   "metadata": {
    "collapsed": false,
    "jupyter": {
     "outputs_hidden": false
    },
    "pycharm": {
     "name": "#%% md\n"
    }
   },
   "source": [
    "Далі відкриється вікно з декількома закладками. Спочатку дивимось \"General\". В полі \"Name\" введіть будь-яку назву для сервера баз даних у контейнері, до якого ми зараз будемо підключатись. Я назвав у себе - \"sql_eesential_db\", ви можете обрати будь-яку зручну для Вас назву.\n",
    "\n",
    "![pgAdmin Server name](./media/pgAdmin_server_name.png)"
   ]
  },
  {
   "cell_type": "markdown",
   "metadata": {
    "collapsed": false,
    "jupyter": {
     "outputs_hidden": false
    },
    "pycharm": {
     "name": "#%% md\n"
    }
   },
   "source": [
    "Наступним кроком в цьому ж вікні необхідно перейти на закладку \"Connection\" і налаштувати з'єднання з сервером БД і з самою базою даних. При налаштуванні - зазирайте в docker-compose.yaml і згадайте що всі сервіси, які знаходяться в одній docker network звертаються один до одного за іменами сервісів.\n",
    "\n",
    "![pgAdmin connection](./media/pgAdmin_connection.png)"
   ]
  },
  {
   "cell_type": "markdown",
   "metadata": {
    "collapsed": false,
    "jupyter": {
     "outputs_hidden": false
    },
    "pycharm": {
     "name": "#%% md\n"
    }
   },
   "source": [
    "Після внесення всіх цих налаштувань натискаєте кнопку \"Save\" - і pgAdmin підключиться до Вашої БД і відобразить Вам щось схоже на картинку нижче:\n",
    "\n",
    "![pgAdmin monitor](./media/pgAdmin_monitor.png)\n"
   ]
  },
  {
   "cell_type": "markdown",
   "metadata": {
    "collapsed": false,
    "jupyter": {
     "outputs_hidden": false
    },
    "pycharm": {
     "name": "#%% md\n"
    }
   },
   "source": [
    "Ви бачите перед собою інтерфейс клієнта PgAdmin, який підключений до вашого сервера postgreSQL розгорнутого в контейнері і підключеного до розгорнутої на сервері базі даних. Пропоную Вам у вікні браузера зліва пройтись по дереву, знайти нашу БД подивитись на таблиці (Server -> sql_essential_db -> Databases -> sql_essential_db -> Schemas -> publoc -> Tables).\n",
    "\n",
    "Давайте зробимо простий запит до нашої БД. Для цього відкрийте інструмент \"Query Tool\", відкриється робоча зона для набору SQL-запитів, наберіть запит і нажміть іконку \"виконати\".\n",
    "\n",
    "Все зображено на скріні нижче:\n",
    "\n",
    "![Query Tool](./media/pgAdmin_query_tool.png)"
   ]
  },
  {
   "cell_type": "markdown",
   "metadata": {
    "collapsed": false,
    "jupyter": {
     "outputs_hidden": false
    },
    "pycharm": {
     "name": "#%% md\n"
    }
   },
   "source": [
    "#### Підключення DBeaver\n",
    "\n",
    "PgAdmin - зручний інструмент для керування БД PostgreSQL, але завжди добре коли є вибір. Я постійно використовую DBeaver - клієнтський програмний застосунок SQL і інструмент адміністрування баз даних.\n",
    "\n",
    "Я пропоную за бажанням встановити його з [сайта тут](https://dbeaver.io/) під час підготовки до наступного заняття.\n",
    "Після встановлення в лівій зоні робочого екрану (\"Бази даних\") клік правою кнопкою миші відкриває контекстне меню. Перейдіть в ньому в пункт меню \"Створити\" -> \"З'єднання\". Цей застосунок підтримує велику кількість БД, тому спочатку треба обрати необхідний тип БД. А далі створити з'єднання дуже схоже на те, що ми вже сьогодні з Вами робили.\n",
    "Буде одне питання - подумайте що в цьому випадку повинно бути іменем хоста - згадайте курс про Docker."
   ]
  },
  {
   "cell_type": "markdown",
   "metadata": {
    "collapsed": false,
    "jupyter": {
     "outputs_hidden": false
    },
    "pycharm": {
     "name": "#%% md\n"
    }
   },
   "source": [
    "#### Підключення до БД з Python."
   ]
  },
  {
   "cell_type": "markdown",
   "metadata": {
    "collapsed": false,
    "jupyter": {
     "outputs_hidden": false
    },
    "pycharm": {
     "name": "#%% md\n"
    }
   },
   "source": [
    "Тепер нам необхідно навчитись підключатись до нашої БД безпосередньо з наших python-скриптів. Прошу Вас згадати наш курс \"Python Advanced\" під час якого ми знайомились з концепцією SQL на прикладі роботи з SQLite. Тоді ми з'ясували що для підключення до DBMS SQLite в python існує вбудований модуль sqlite3.\n",
    "Стосовно PostgreSQL майже така ж ситуація: існує велика кількість модулів \"конекторів\", які дозволяють працювати з PostgreSQL. Вони всі не є вбудованими, тому перед використанням їх треба встановити. Докладніше з деякими з них ви можете познайомитись тут(https://wiki.python.org/moin/PostgreSQL).\n",
    "Ми будемо використовувати модуль psycopg2, установіть його перед використанням (якщо ви встановили всі залежності з requirements.txt - то все добре - він там вказаний). Докладніше про цей модуль можна прочитати на [сторінці документації](https://www.psycopg.org/docs/).\n",
    "\n"
   ]
  },
  {
   "cell_type": "code",
   "execution_count": 1,
   "metadata": {
    "collapsed": false,
    "jupyter": {
     "outputs_hidden": false
    },
    "pycharm": {
     "name": "#%%\n"
    }
   },
   "outputs": [],
   "source": [
    "import psycopg2\n",
    "from psycopg2 import OperationalError"
   ]
  },
  {
   "cell_type": "markdown",
   "metadata": {
    "collapsed": false,
    "jupyter": {
     "outputs_hidden": false
    },
    "pycharm": {
     "name": "#%% md\n"
    }
   },
   "source": [
    "Спочатку нам необхідно створити підключення до БД. Для цього існує об'єкт psycopg2.connect ([детальна документація тут](https://www.psycopg.org/docs/module.html?highlight=connect#psycopg2.connect)). Я сподіваюсь що ви ще не забули як ми з Вами підключали клієнтів до нашої БД (я про pgAdmin і DBeaver) і пам'ятаєте дані, які необхідно було повідомити їм для підключення:\n",
    "- ім'я бази даних\n",
    "- ім'я користувача від імені якого ми підключаємось\n",
    "- пароль користувача\n",
    "- адресу (або ім'я - ми ж пам'ятаємо що воно DNS-службою буде перетворене на адресу) хоста де розгорнутий сервер PostgreSQL\n",
    "- порт - на якому \"слухає\" розгорнутий сервер\n",
    "\n",
    "Точно такі ж дані нам необхідно для підключення передати і в psycopg2.connect.\n",
    "Так як при підключенні інколи може виникнути помилка яка, не може бути під нашим контролем (наприклад в цей час сервер не буде запущений), я використовую вийняток OperationalError з модуля psycopg2 ([докладно про вийнятики в модулі і їх призначення тут](https://www.psycopg.org/docs/module.html?highlight=operationalerror#psycopg2.OperationalError)).\n",
    "\n",
    "Напишемо функцію яка буде повертати нам підключення до нашої БД:"
   ]
  },
  {
   "cell_type": "code",
   "execution_count": 2,
   "metadata": {
    "collapsed": false,
    "jupyter": {
     "outputs_hidden": false
    },
    "pycharm": {
     "name": "#%%\n"
    }
   },
   "outputs": [],
   "source": [
    "def create_connection(db_name, db_user, db_password, db_host, db_port):\n",
    "    connection = None\n",
    "    try:\n",
    "        connection = psycopg2.connect(\n",
    "            database=db_name,\n",
    "            user=db_user,\n",
    "            password=db_password,\n",
    "            host=db_host,\n",
    "            port=db_port,\n",
    "        )\n",
    "        print(\"Connection to PostgreSQL DB successful\")\n",
    "    except OperationalError as e:\n",
    "        print(f\"The error '{e}' occurred\")\n",
    "    return connection"
   ]
  },
  {
   "cell_type": "markdown",
   "metadata": {
    "collapsed": false,
    "jupyter": {
     "outputs_hidden": false
    },
    "pycharm": {
     "name": "#%% md\n"
    }
   },
   "source": [
    "Тепер створимо змінні з реальними даними для підключення до БД. Звертаю Вашу увагу на такий параметр як ім'я хоста. Коли ми створювали підключення для pgAdmin - ми використовували ім'я хоста postgres - це є ім'я сервіса для нашого сервера postgreSQL в файлі docker-compose.yaml. Іншим сервісом в цьому файлі ми оголошуємо наш pgAdmin.\n",
    "З попередього курсу \"Docker&Python\" ми пам'ятаємо, що за замовченням (це наш випадок) всі сервіси подключаються до однієї мережі типу bridge і, завдяки створеній docker DNS-службі в межах цієї мережі можуть звертатись один до одного за іменами сервісів. Тому для нашого pgAdmin ім'я хоста з PostgreSQL буде postgres (ім'я сервісу).\n",
    "У випадку підключення з нашого скрипта, який запущений не в контейнері (в нашому випадку, тому що при бажанні можна запускати і в контейнері) і не підключений до docker network, хост postgreSQL буде мати іншу адресу. Подумайте яку. Якщо це для вас незрозуміло - згадайте курс Docker&Python."
   ]
  },
  {
   "cell_type": "code",
   "execution_count": 3,
   "metadata": {
    "collapsed": false,
    "jupyter": {
     "outputs_hidden": false
    },
    "pycharm": {
     "name": "#%%\n"
    }
   },
   "outputs": [],
   "source": [
    "database=\"sql_essential_db\"\n",
    "user=\"student\"\n",
    "password=\"cyberbionics\"\n",
    "host=\"127.0.0.1\"\n",
    "port=5432"
   ]
  },
  {
   "cell_type": "code",
   "execution_count": 4,
   "metadata": {
    "collapsed": false,
    "jupyter": {
     "outputs_hidden": false
    },
    "pycharm": {
     "name": "#%%\n"
    }
   },
   "outputs": [
    {
     "name": "stdout",
     "output_type": "stream",
     "text": [
      "Connection to PostgreSQL DB successful\n"
     ]
    }
   ],
   "source": [
    "connection = create_connection(\n",
    "    db_name=database,\n",
    "    db_user=user,\n",
    "    db_password=password,\n",
    "    db_host=host,\n",
    "    db_port=port\n",
    ")"
   ]
  },
  {
   "cell_type": "markdown",
   "metadata": {
    "collapsed": false,
    "jupyter": {
     "outputs_hidden": false
    },
    "pycharm": {
     "name": "#%% md\n"
    }
   },
   "source": [
    "Якщо сервер запущений і ви чітко притримувались інструкції - ви побачите повідомлення про успішне підключення до бази даних.\n",
    "\n",
    "Тепер напишемо функцію яка буде виконувати наші SQL-запити.\n",
    "Логіка роботи з PostgrеSQL дуже схожа на логіку роботи з SQLite:\n",
    "- connection (який ми вже створили) має метод cursor, який (дуже логічно! :-) ) повертає об'єкт cursor ([докладно про це тут](https://www.psycopg.org/docs/connection.html?highlight=cursor#connection.cursor))\n",
    "- об'єкт cursor має метод cursor.execute - виконує операцію описану в SQL-запиті в базі даних до якої цей cursor прив'язаний ([докладно про це тут](https://www.psycopg.org/docs/cursor.html?highlight=execute#cursor.execute)). А як буде виконуватись цей запит - буде залежати від іншого параметра, про який далі\n",
    "- connection - має атрибут connection.autocommit, який керує режимом виконання команди cursor.execute. Дуже коротко - чи буде команда виконана одразу (ншого параметра, про який далі\n",
    "- connection - має атрибут connection.autocommit=True), чи команді будуть запускати транзакцію і не виконуватись одразу, а завершуватись лише після виклику спеціальної команди (commit). Зараз ми не будемо в це заглиблюватись - для чого так зроблено - а просто встановимо режим негайного виконання ([докладніше про це тут](https://www.psycopg.org/docs/connection.html?highlight=autocommit#connection.autocommit))\n",
    "\n",
    "Отже - наша функція буде мати наступний вигляд:"
   ]
  },
  {
   "cell_type": "code",
   "execution_count": 5,
   "metadata": {
    "collapsed": false,
    "jupyter": {
     "outputs_hidden": false
    },
    "pycharm": {
     "name": "#%%\n"
    }
   },
   "outputs": [],
   "source": [
    "def execute_query(connection, query):\n",
    "    connection.autocommit = True\n",
    "    cursor = connection.cursor()\n",
    "    try:\n",
    "        cursor.execute(query)\n",
    "        print(\"Query executed successfully\")\n",
    "    except OperationalError as e:\n",
    "        print(f\"The error '{e}' occurred\")"
   ]
  },
  {
   "cell_type": "markdown",
   "metadata": {
    "collapsed": false,
    "jupyter": {
     "outputs_hidden": false
    },
    "pycharm": {
     "name": "#%% md\n"
    }
   },
   "source": [
    "Як ви бачите - ця функція нічого не повертає. Ії необхідно використовувати для запитів від яких ми очікуємо якихось дій з нашою БД, але не очікуємо нічого назад (наприклад - створення таблиць, вставка даних і т. ін.)\n",
    "\n",
    "Але і отримувати від БД ми також щось періодично повинні! Тому напишемо ще оду функцію:"
   ]
  },
  {
   "cell_type": "code",
   "execution_count": 6,
   "metadata": {
    "collapsed": false,
    "jupyter": {
     "outputs_hidden": false
    },
    "pycharm": {
     "name": "#%%\n"
    }
   },
   "outputs": [],
   "source": [
    "def execute_read_query(connection, query):\n",
    "    cursor = connection.cursor()\n",
    "    result = None\n",
    "    try:\n",
    "        cursor.execute(query)\n",
    "        result = cursor.fetchall()\n",
    "        return result\n",
    "    except OperationalError as e:\n",
    "        print(f\"The error '{e}' occurred\")"
   ]
  },
  {
   "cell_type": "markdown",
   "metadata": {
    "collapsed": false,
    "jupyter": {
     "outputs_hidden": false
    },
    "pycharm": {
     "name": "#%% md\n"
    }
   },
   "source": [
    "Описана функція майже така ж як і попередня, за виключенням рядка `result = cursor.fetchall()`\n",
    "Після виконання курсором запиту SQL, який має щось повернути, метод fetchall повертає список кортежів результатів ([докладніше про це тут](https://www.psycopg.org/docs/cursor.html?highlight=fetchall#cursor.fetchall)).\n",
    "\n",
    "Тепер у нас все є для подальших дій. Нам лишилося перевірити як все це працює. Давайте створимо простий SQL-запит і виконаємо. Наприклад - це може бути саме той запит, яким ми перевіряли роботу pgAdmin:\n"
   ]
  },
  {
   "cell_type": "code",
   "execution_count": 7,
   "metadata": {
    "collapsed": false,
    "jupyter": {
     "outputs_hidden": false
    },
    "pycharm": {
     "name": "#%%\n"
    }
   },
   "outputs": [],
   "source": [
    "query = \"\"\"\n",
    "SELECT *\n",
    "FROM customers;\n",
    "\"\"\""
   ]
  },
  {
   "cell_type": "markdown",
   "metadata": {
    "collapsed": false,
    "jupyter": {
     "outputs_hidden": false
    },
    "pycharm": {
     "name": "#%% md\n"
    }
   },
   "source": [
    "Так як ми очікуємо отримати у відповідь якісь результати, використаємо функцію execute_read_query():"
   ]
  },
  {
   "cell_type": "code",
   "execution_count": 8,
   "metadata": {
    "collapsed": false,
    "jupyter": {
     "outputs_hidden": false
    },
    "pycharm": {
     "name": "#%%\n"
    }
   },
   "outputs": [
    {
     "name": "stdout",
     "output_type": "stream",
     "text": [
      "[('ALFKI', 'Alfreds Futterkiste', 'Maria Anders', 'Sales Representative', 'Obere Str. 57', 'Berlin', None, '12209', 'Germany', '030-0074321', '030-0076545'), ('ANATR', 'Ana Trujillo Emparedados y helados', 'Ana Trujillo', 'Owner', 'Avda. de la Constitución 2222', 'México D.F.', None, '05021', 'Mexico', '(5) 555-4729', '(5) 555-3745'), ('ANTON', 'Antonio Moreno Taquería', 'Antonio Moreno', 'Owner', 'Mataderos  2312', 'México D.F.', None, '05023', 'Mexico', '(5) 555-3932', None), ('AROUT', 'Around the Horn', 'Thomas Hardy', 'Sales Representative', '120 Hanover Sq.', 'London', None, 'WA1 1DP', 'UK', '(171) 555-7788', '(171) 555-6750'), ('BERGS', 'Berglunds snabbköp', 'Christina Berglund', 'Order Administrator', 'Berguvsvägen  8', 'Luleå', None, 'S-958 22', 'Sweden', '0921-12 34 65', '0921-12 34 67'), ('BLAUS', 'Blauer See Delikatessen', 'Hanna Moos', 'Sales Representative', 'Forsterstr. 57', 'Mannheim', None, '68306', 'Germany', '0621-08460', '0621-08924'), ('BLONP', 'Blondesddsl père et fils', 'Frédérique Citeaux', 'Marketing Manager', '24, place Kléber', 'Strasbourg', None, '67000', 'France', '88.60.15.31', '88.60.15.32'), ('BOLID', 'Bólido Comidas preparadas', 'Martín Sommer', 'Owner', 'C/ Araquil, 67', 'Madrid', None, '28023', 'Spain', '(91) 555 22 82', '(91) 555 91 99'), ('BONAP', \"Bon app'\", 'Laurence Lebihan', 'Owner', '12, rue des Bouchers', 'Marseille', None, '13008', 'France', '91.24.45.40', '91.24.45.41'), ('BOTTM', 'Bottom-Dollar Markets', 'Elizabeth Lincoln', 'Accounting Manager', '23 Tsawassen Blvd.', 'Tsawassen', 'BC', 'T2F 8M4', 'Canada', '(604) 555-4729', '(604) 555-3745'), ('BSBEV', \"B's Beverages\", 'Victoria Ashworth', 'Sales Representative', 'Fauntleroy Circus', 'London', None, 'EC2 5NT', 'UK', '(171) 555-1212', None), ('CACTU', 'Cactus Comidas para llevar', 'Patricio Simpson', 'Sales Agent', 'Cerrito 333', 'Buenos Aires', None, '1010', 'Argentina', '(1) 135-5555', '(1) 135-4892'), ('CENTC', 'Centro comercial Moctezuma', 'Francisco Chang', 'Marketing Manager', 'Sierras de Granada 9993', 'México D.F.', None, '05022', 'Mexico', '(5) 555-3392', '(5) 555-7293'), ('CHOPS', 'Chop-suey Chinese', 'Yang Wang', 'Owner', 'Hauptstr. 29', 'Bern', None, '3012', 'Switzerland', '0452-076545', None), ('COMMI', 'Comércio Mineiro', 'Pedro Afonso', 'Sales Associate', 'Av. dos Lusíadas, 23', 'Sao Paulo', 'SP', '05432-043', 'Brazil', '(11) 555-7647', None), ('CONSH', 'Consolidated Holdings', 'Elizabeth Brown', 'Sales Representative', 'Berkeley Gardens 12  Brewery', 'London', None, 'WX1 6LT', 'UK', '(171) 555-2282', '(171) 555-9199'), ('DRACD', 'Drachenblut Delikatessen', 'Sven Ottlieb', 'Order Administrator', 'Walserweg 21', 'Aachen', None, '52066', 'Germany', '0241-039123', '0241-059428'), ('DUMON', 'Du monde entier', 'Janine Labrune', 'Owner', '67, rue des Cinquante Otages', 'Nantes', None, '44000', 'France', '40.67.88.88', '40.67.89.89'), ('EASTC', 'Eastern Connection', 'Ann Devon', 'Sales Agent', '35 King George', 'London', None, 'WX3 6FW', 'UK', '(171) 555-0297', '(171) 555-3373'), ('ERNSH', 'Ernst Handel', 'Roland Mendel', 'Sales Manager', 'Kirchgasse 6', 'Graz', None, '8010', 'Austria', '7675-3425', '7675-3426'), ('FAMIA', 'Familia Arquibaldo', 'Aria Cruz', 'Marketing Assistant', 'Rua Orós, 92', 'Sao Paulo', 'SP', '05442-030', 'Brazil', '(11) 555-9857', None), ('FISSA', 'FISSA Fabrica Inter. Salchichas S.A.', 'Diego Roel', 'Accounting Manager', 'C/ Moralzarzal, 86', 'Madrid', None, '28034', 'Spain', '(91) 555 94 44', '(91) 555 55 93'), ('FOLIG', 'Folies gourmandes', 'Martine Rancé', 'Assistant Sales Agent', '184, chaussée de Tournai', 'Lille', None, '59000', 'France', '20.16.10.16', '20.16.10.17'), ('FOLKO', 'Folk och fä HB', 'Maria Larsson', 'Owner', 'Åkergatan 24', 'Bräcke', None, 'S-844 67', 'Sweden', '0695-34 67 21', None), ('FRANK', 'Frankenversand', 'Peter Franken', 'Marketing Manager', 'Berliner Platz 43', 'München', None, '80805', 'Germany', '089-0877310', '089-0877451'), ('FRANR', 'France restauration', 'Carine Schmitt', 'Marketing Manager', '54, rue Royale', 'Nantes', None, '44000', 'France', '40.32.21.21', '40.32.21.20'), ('FRANS', 'Franchi S.p.A.', 'Paolo Accorti', 'Sales Representative', 'Via Monte Bianco 34', 'Torino', None, '10100', 'Italy', '011-4988260', '011-4988261'), ('FURIB', 'Furia Bacalhau e Frutos do Mar', 'Lino Rodriguez', 'Sales Manager', 'Jardim das rosas n. 32', 'Lisboa', None, '1675', 'Portugal', '(1) 354-2534', '(1) 354-2535'), ('GALED', 'Galería del gastrónomo', 'Eduardo Saavedra', 'Marketing Manager', 'Rambla de Cataluña, 23', 'Barcelona', None, '08022', 'Spain', '(93) 203 4560', '(93) 203 4561'), ('GODOS', 'Godos Cocina Típica', 'José Pedro Freyre', 'Sales Manager', 'C/ Romero, 33', 'Sevilla', None, '41101', 'Spain', '(95) 555 82 82', None), ('GOURL', 'Gourmet Lanchonetes', 'André Fonseca', 'Sales Associate', 'Av. Brasil, 442', 'Campinas', 'SP', '04876-786', 'Brazil', '(11) 555-9482', None), ('GREAL', 'Great Lakes Food Market', 'Howard Snyder', 'Marketing Manager', '2732 Baker Blvd.', 'Eugene', 'OR', '97403', 'USA', '(503) 555-7555', None), ('GROSR', 'GROSELLA-Restaurante', 'Manuel Pereira', 'Owner', '5ª Ave. Los Palos Grandes', 'Caracas', 'DF', '1081', 'Venezuela', '(2) 283-2951', '(2) 283-3397'), ('HANAR', 'Hanari Carnes', 'Mario Pontes', 'Accounting Manager', 'Rua do Paço, 67', 'Rio de Janeiro', 'RJ', '05454-876', 'Brazil', '(21) 555-0091', '(21) 555-8765'), ('HILAA', 'HILARION-Abastos', 'Carlos Hernández', 'Sales Representative', 'Carrera 22 con Ave. Carlos Soublette #8-35', 'San Cristóbal', 'Táchira', '5022', 'Venezuela', '(5) 555-1340', '(5) 555-1948'), ('HUNGC', 'Hungry Coyote Import Store', 'Yoshi Latimer', 'Sales Representative', 'City Center Plaza 516 Main St.', 'Elgin', 'OR', '97827', 'USA', '(503) 555-6874', '(503) 555-2376'), ('HUNGO', 'Hungry Owl All-Night Grocers', 'Patricia McKenna', 'Sales Associate', '8 Johnstown Road', 'Cork', 'Co. Cork', None, 'Ireland', '2967 542', '2967 3333'), ('ISLAT', 'Island Trading', 'Helen Bennett', 'Marketing Manager', 'Garden House Crowther Way', 'Cowes', 'Isle of Wight', 'PO31 7PJ', 'UK', '(198) 555-8888', None), ('KOENE', 'Königlich Essen', 'Philip Cramer', 'Sales Associate', 'Maubelstr. 90', 'Brandenburg', None, '14776', 'Germany', '0555-09876', None), ('LACOR', \"La corne d'abondance\", 'Daniel Tonini', 'Sales Representative', \"67, avenue de l'Europe\", 'Versailles', None, '78000', 'France', '30.59.84.10', '30.59.85.11'), ('LAMAI', \"La maison d'Asie\", 'Annette Roulet', 'Sales Manager', '1 rue Alsace-Lorraine', 'Toulouse', None, '31000', 'France', '61.77.61.10', '61.77.61.11'), ('LAUGB', 'Laughing Bacchus Wine Cellars', 'Yoshi Tannamuri', 'Marketing Assistant', '1900 Oak St.', 'Vancouver', 'BC', 'V3F 2K1', 'Canada', '(604) 555-3392', '(604) 555-7293'), ('LAZYK', 'Lazy K Kountry Store', 'John Steel', 'Marketing Manager', '12 Orchestra Terrace', 'Walla Walla', 'WA', '99362', 'USA', '(509) 555-7969', '(509) 555-6221'), ('LEHMS', 'Lehmanns Marktstand', 'Renate Messner', 'Sales Representative', 'Magazinweg 7', 'Frankfurt a.M.', None, '60528', 'Germany', '069-0245984', '069-0245874'), ('LETSS', \"Let's Stop N Shop\", 'Jaime Yorres', 'Owner', '87 Polk St. Suite 5', 'San Francisco', 'CA', '94117', 'USA', '(415) 555-5938', None), ('LILAS', 'LILA-Supermercado', 'Carlos González', 'Accounting Manager', 'Carrera 52 con Ave. Bolívar #65-98 Llano Largo', 'Barquisimeto', 'Lara', '3508', 'Venezuela', '(9) 331-6954', '(9) 331-7256'), ('LINOD', 'LINO-Delicateses', 'Felipe Izquierdo', 'Owner', 'Ave. 5 de Mayo Porlamar', 'I. de Margarita', 'Nueva Esparta', '4980', 'Venezuela', '(8) 34-56-12', '(8) 34-93-93'), ('LONEP', 'Lonesome Pine Restaurant', 'Fran Wilson', 'Sales Manager', '89 Chiaroscuro Rd.', 'Portland', 'OR', '97219', 'USA', '(503) 555-9573', '(503) 555-9646'), ('MAGAA', 'Magazzini Alimentari Riuniti', 'Giovanni Rovelli', 'Marketing Manager', 'Via Ludovico il Moro 22', 'Bergamo', None, '24100', 'Italy', '035-640230', '035-640231'), ('MAISD', 'Maison Dewey', 'Catherine Dewey', 'Sales Agent', 'Rue Joseph-Bens 532', 'Bruxelles', None, 'B-1180', 'Belgium', '(02) 201 24 67', '(02) 201 24 68'), ('MEREP', 'Mère Paillarde', 'Jean Fresnière', 'Marketing Assistant', '43 rue St. Laurent', 'Montréal', 'Québec', 'H1J 1C3', 'Canada', '(514) 555-8054', '(514) 555-8055'), ('MORGK', 'Morgenstern Gesundkost', 'Alexander Feuer', 'Marketing Assistant', 'Heerstr. 22', 'Leipzig', None, '04179', 'Germany', '0342-023176', None), ('NORTS', 'North/South', 'Simon Crowther', 'Sales Associate', 'South House 300 Queensbridge', 'London', None, 'SW7 1RZ', 'UK', '(171) 555-7733', '(171) 555-2530'), ('OCEAN', 'Océano Atlántico Ltda.', 'Yvonne Moncada', 'Sales Agent', 'Ing. Gustavo Moncada 8585 Piso 20-A', 'Buenos Aires', None, '1010', 'Argentina', '(1) 135-5333', '(1) 135-5535'), ('OLDWO', 'Old World Delicatessen', 'Rene Phillips', 'Sales Representative', '2743 Bering St.', 'Anchorage', 'AK', '99508', 'USA', '(907) 555-7584', '(907) 555-2880'), ('OTTIK', 'Ottilies Käseladen', 'Henriette Pfalzheim', 'Owner', 'Mehrheimerstr. 369', 'Köln', None, '50739', 'Germany', '0221-0644327', '0221-0765721'), ('PARIS', 'Paris spécialités', 'Marie Bertrand', 'Owner', '265, boulevard Charonne', 'Paris', None, '75012', 'France', '(1) 42.34.22.66', '(1) 42.34.22.77'), ('PERIC', 'Pericles Comidas clásicas', 'Guillermo Fernández', 'Sales Representative', 'Calle Dr. Jorge Cash 321', 'México D.F.', None, '05033', 'Mexico', '(5) 552-3745', '(5) 545-3745'), ('PICCO', 'Piccolo und mehr', 'Georg Pipps', 'Sales Manager', 'Geislweg 14', 'Salzburg', None, '5020', 'Austria', '6562-9722', '6562-9723'), ('PRINI', 'Princesa Isabel Vinhos', 'Isabel de Castro', 'Sales Representative', 'Estrada da saúde n. 58', 'Lisboa', None, '1756', 'Portugal', '(1) 356-5634', None), ('QUEDE', 'Que Delícia', 'Bernardo Batista', 'Accounting Manager', 'Rua da Panificadora, 12', 'Rio de Janeiro', 'RJ', '02389-673', 'Brazil', '(21) 555-4252', '(21) 555-4545'), ('QUEEN', 'Queen Cozinha', 'Lúcia Carvalho', 'Marketing Assistant', 'Alameda dos Canàrios, 891', 'Sao Paulo', 'SP', '05487-020', 'Brazil', '(11) 555-1189', None), ('QUICK', 'QUICK-Stop', 'Horst Kloss', 'Accounting Manager', 'Taucherstraße 10', 'Cunewalde', None, '01307', 'Germany', '0372-035188', None), ('RANCH', 'Rancho grande', 'Sergio Gutiérrez', 'Sales Representative', 'Av. del Libertador 900', 'Buenos Aires', None, '1010', 'Argentina', '(1) 123-5555', '(1) 123-5556'), ('RATTC', 'Rattlesnake Canyon Grocery', 'Paula Wilson', 'Assistant Sales Representative', '2817 Milton Dr.', 'Albuquerque', 'NM', '87110', 'USA', '(505) 555-5939', '(505) 555-3620'), ('REGGC', 'Reggiani Caseifici', 'Maurizio Moroni', 'Sales Associate', 'Strada Provinciale 124', 'Reggio Emilia', None, '42100', 'Italy', '0522-556721', '0522-556722'), ('RICAR', 'Ricardo Adocicados', 'Janete Limeira', 'Assistant Sales Agent', 'Av. Copacabana, 267', 'Rio de Janeiro', 'RJ', '02389-890', 'Brazil', '(21) 555-3412', None), ('RICSU', 'Richter Supermarkt', 'Michael Holz', 'Sales Manager', 'Grenzacherweg 237', 'Genève', None, '1203', 'Switzerland', '0897-034214', None), ('ROMEY', 'Romero y tomillo', 'Alejandra Camino', 'Accounting Manager', 'Gran Vía, 1', 'Madrid', None, '28001', 'Spain', '(91) 745 6200', '(91) 745 6210'), ('SANTG', 'Santé Gourmet', 'Jonas Bergulfsen', 'Owner', 'Erling Skakkes gate 78', 'Stavern', None, '4110', 'Norway', '07-98 92 35', '07-98 92 47'), ('SAVEA', 'Save-a-lot Markets', 'Jose Pavarotti', 'Sales Representative', '187 Suffolk Ln.', 'Boise', 'ID', '83720', 'USA', '(208) 555-8097', None), ('SEVES', 'Seven Seas Imports', 'Hari Kumar', 'Sales Manager', '90 Wadhurst Rd.', 'London', None, 'OX15 4NB', 'UK', '(171) 555-1717', '(171) 555-5646'), ('SIMOB', 'Simons bistro', 'Jytte Petersen', 'Owner', 'Vinbæltet 34', 'Kobenhavn', None, '1734', 'Denmark', '31 12 34 56', '31 13 35 57'), ('SPECD', 'Spécialités du monde', 'Dominique Perrier', 'Marketing Manager', '25, rue Lauriston', 'Paris', None, '75016', 'France', '(1) 47.55.60.10', '(1) 47.55.60.20'), ('SPLIR', 'Split Rail Beer & Ale', 'Art Braunschweiger', 'Sales Manager', 'P.O. Box 555', 'Lander', 'WY', '82520', 'USA', '(307) 555-4680', '(307) 555-6525'), ('SUPRD', 'Suprêmes délices', 'Pascale Cartrain', 'Accounting Manager', 'Boulevard Tirou, 255', 'Charleroi', None, 'B-6000', 'Belgium', '(071) 23 67 22 20', '(071) 23 67 22 21'), ('THEBI', 'The Big Cheese', 'Liz Nixon', 'Marketing Manager', '89 Jefferson Way Suite 2', 'Portland', 'OR', '97201', 'USA', '(503) 555-3612', None), ('THECR', 'The Cracker Box', 'Liu Wong', 'Marketing Assistant', '55 Grizzly Peak Rd.', 'Butte', 'MT', '59801', 'USA', '(406) 555-5834', '(406) 555-8083'), ('TOMSP', 'Toms Spezialitäten', 'Karin Josephs', 'Marketing Manager', 'Luisenstr. 48', 'Münster', None, '44087', 'Germany', '0251-031259', '0251-035695'), ('TORTU', 'Tortuga Restaurante', 'Miguel Angel Paolino', 'Owner', 'Avda. Azteca 123', 'México D.F.', None, '05033', 'Mexico', '(5) 555-2933', None), ('TRADH', 'Tradição Hipermercados', 'Anabela Domingues', 'Sales Representative', 'Av. Inês de Castro, 414', 'Sao Paulo', 'SP', '05634-030', 'Brazil', '(11) 555-2167', '(11) 555-2168'), ('TRAIH', \"Trail's Head Gourmet Provisioners\", 'Helvetius Nagy', 'Sales Associate', '722 DaVinci Blvd.', 'Kirkland', 'WA', '98034', 'USA', '(206) 555-8257', '(206) 555-2174'), ('VAFFE', 'Vaffeljernet', 'Palle Ibsen', 'Sales Manager', 'Smagsloget 45', 'Århus', None, '8200', 'Denmark', '86 21 32 43', '86 22 33 44'), ('VICTE', 'Victuailles en stock', 'Mary Saveley', 'Sales Agent', '2, rue du Commerce', 'Lyon', None, '69004', 'France', '78.32.54.86', '78.32.54.87'), ('VINET', 'Vins et alcools Chevalier', 'Paul Henriot', 'Accounting Manager', \"59 rue de l'Abbaye\", 'Reims', None, '51100', 'France', '26.47.15.10', '26.47.15.11'), ('WANDK', 'Die Wandernde Kuh', 'Rita Müller', 'Sales Representative', 'Adenauerallee 900', 'Stuttgart', None, '70563', 'Germany', '0711-020361', '0711-035428'), ('WARTH', 'Wartian Herkku', 'Pirkko Koskitalo', 'Accounting Manager', 'Torikatu 38', 'Oulu', None, '90110', 'Finland', '981-443655', '981-443655'), ('WELLI', 'Wellington Importadora', 'Paula Parente', 'Sales Manager', 'Rua do Mercado, 12', 'Resende', 'SP', '08737-363', 'Brazil', '(14) 555-8122', None), ('WHITC', 'White Clover Markets', 'Karl Jablonski', 'Owner', '305 - 14th Ave. S. Suite 3B', 'Seattle', 'WA', '98128', 'USA', '(206) 555-4112', '(206) 555-4115'), ('WILMK', 'Wilman Kala', 'Matti Karttunen', 'Owner/Marketing Assistant', 'Keskuskatu 45', 'Helsinki', None, '21240', 'Finland', '90-224 8858', '90-224 8858'), ('WOLZA', 'Wolski  Zajazd', 'Zbyszek Piestrzeniewicz', 'Owner', 'ul. Filtrowa 68', 'Warszawa', None, '01-012', 'Poland', '(26) 642-7012', '(26) 642-7012')]\n"
     ]
    }
   ],
   "source": [
    "query_result = execute_read_query(\n",
    "    connection=connection,\n",
    "    query=query\n",
    ")\n",
    "\n",
    "print(query_result)"
   ]
  },
  {
   "cell_type": "markdown",
   "metadata": {
    "collapsed": false,
    "jupyter": {
     "outputs_hidden": false
    },
    "pycharm": {
     "name": "#%% md\n"
    }
   },
   "source": [
    "Вітаю Вас!\n",
    "Протягом заняття ми з Вами:\n",
    "- створили контейнеризовану інфраструктуру для розгортання СУБД PostgrSQL\n",
    "- розгорнули в межах створеної інфраструктури БД і наповнили її даними\n",
    "- навчились взаємодіяти з БД за допомогою штатного консольного інструменту psql\n",
    "- розгорнули в контейнері допоміжний інструмент для керування БД і виконання запитів - pgAdmin і підключили його до розгорнутого сервера PostgreSQL і створеної БД\n",
    "- розгорнули за межами контейнерізованої структури інший інструмент для адміністрування БД і виконання запитів - DBeaver. Підключили до нашого сервера і виконали тестові запити.\n",
    "- створили за межами контейнеризованої структури python-скрипт що вміє підключатись до нашої БД і виконувати SQL-запити.\n",
    "\n",
    "Тепер ми маємо повний набір інструментів для подальшого вивчення роботи з PostgreSQL."
   ]
  },
  {
   "cell_type": "code",
   "execution_count": null,
   "metadata": {},
   "outputs": [],
   "source": []
  }
 ],
 "metadata": {
  "kernelspec": {
   "display_name": "Python 3 (ipykernel)",
   "language": "python",
   "name": "python3"
  },
  "language_info": {
   "codemirror_mode": {
    "name": "ipython",
    "version": 3
   },
   "file_extension": ".py",
   "mimetype": "text/x-python",
   "name": "python",
   "nbconvert_exporter": "python",
   "pygments_lexer": "ipython3",
   "version": "3.11.3"
  },
  "vscode": {
   "interpreter": {
    "hash": "9638ab908a3d057c39366469a2f6e98655520ee10d4ea313cd4911d69c3372da"
   }
  }
 },
 "nbformat": 4,
 "nbformat_minor": 4
}
